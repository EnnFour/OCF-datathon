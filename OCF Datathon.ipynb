{
 "cells": [
  {
   "cell_type": "code",
   "execution_count": null,
   "metadata": {
    "collapsed": false
   },
   "outputs": [],
   "source": [
    "# Install all of the things\n",
    "!pip3 install numpy\n",
    "!pip3 install pandas\n",
    "#!pip install statsmodels\n",
    "!pip3 install sklearn\n",
    "!pip3 install scipy\n",
    "#!pip install nltk\n",
    "!pip3 install matplotlib\n",
    "!pip3 install pandasql"
   ]
  },
  {
   "cell_type": "code",
   "execution_count": 1,
   "metadata": {
    "collapsed": false
   },
   "outputs": [],
   "source": [
    "import pandas as pd\n",
    "import numpy as np\n",
    "#import statsmodels\n",
    "import sklearn\n",
    "import scipy\n",
    "import matplotlib\n",
    "import datetime\n",
    "from pytz import timezone\n",
    "import pandasql as pdsql"
   ]
  },
  {
   "cell_type": "code",
   "execution_count": 2,
   "metadata": {
    "collapsed": true
   },
   "outputs": [],
   "source": [
    "#Import all data\n",
    "printer_data = pd.read_csv('http://ocf.io/shichenh/ocf_datathon_ds/printing.csv')\n",
    "session_data = pd.read_csv('https://www.ocf.berkeley.edu/~shichenh/ocf_datathon_ds/sessions.csv')\n",
    "staff_data = pd.read_csv('https://www.ocf.berkeley.edu/~shichenh/ocf_datathon_ds/s_sessions.csv')"
   ]
  },
  {
   "cell_type": "code",
   "execution_count": 3,
   "metadata": {
    "collapsed": true
   },
   "outputs": [],
   "source": [
    "#Trim the printer data to have no entries past the time 2017-11-09 20:00:00 UTC (Noon pacific)\n",
    "#Also, no entries before 9AM Pacific 2016-03-16\n",
    "printer_data = printer_data[39:194767]\n",
    "\n",
    "#Trim the session data to have no entries past the time 2017-11-09 20:00:00 UTC (noon pacific)\n",
    "#Also, no entries before 16:00:00 UTC\n",
    "session_data = session_data[156305:302446]\n"
   ]
  },
  {
   "cell_type": "code",
   "execution_count": 4,
   "metadata": {
    "collapsed": false
   },
   "outputs": [
    {
     "name": "stdout",
     "output_type": "stream",
     "text": [
      "No Output Desired\n"
     ]
    }
   ],
   "source": [
    "#Convert dates and times into a datetime object\n",
    "session_data['start'] = pd.to_datetime(session_data['start'], format='%Y-%m-%dT%H:%M:%SZ')\n",
    "session_data['end'] = pd.to_datetime(session_data['end'], format='%Y-%m-%dT%H:%M:%SZ')\n",
    "printer_data['time'] = pd.to_datetime(printer_data['time'], format='%Y-%m-%d %H:%M:%S')\n",
    "\n",
    "printer_data['strtime'] = printer_data['time'].dt.tz_localize('US/Pacific').dt.tz_convert('utc')\n",
    "printer_data['strtime'].apply(lambda x: x.strftime(\"%Y:%m:%d:%H:%M:%S\"))\n",
    "\n",
    "session_data['start'] = session_data['start'].dt.tz_localize('utc')\n",
    "session_data['start'].apply(lambda x: x.strftime(\"%Y:%m:%d:%H:%M:%S\"))\n",
    "\n",
    "session_data['end'] = session_data['end'].dt.tz_localize('utc')\n",
    "session_data['end'].apply(lambda x: x.strftime(\"%Y:%m:%d:%H:%M:%S\"))\n",
    "\n",
    "print(\"No Output Desired\")"
   ]
  },
  {
   "cell_type": "code",
   "execution_count": 5,
   "metadata": {
    "collapsed": false
   },
   "outputs": [
    {
     "name": "stdout",
     "output_type": "stream",
     "text": [
      "No Output Desired\n"
     ]
    }
   ],
   "source": [
    "session_data.user.apply(str)\n",
    "printer_data.user.apply(str)\n",
    "\n",
    "printer_data['strtime'] = printer_data['strtime'].astype(str)\n",
    "session_data['start'] = session_data['start'].astype(str)\n",
    "session_data['end'] = session_data['end'].astype(str)\n",
    "\n",
    "print(\"No Output Desired\")\n"
   ]
  },
  {
   "cell_type": "code",
   "execution_count": 23,
   "metadata": {
    "collapsed": true
   },
   "outputs": [],
   "source": [
    "#Attempt to merge using SQL\n",
    "query = \"\"\"SELECT * FROM session_data a INNER JOIN printer_data b \n",
    "            ON a.user = b.user WHERE a.start < b.strtime AND a.end > b.strtime\"\"\"\n",
    "\n",
    "pysql = lambda q: pdsql.sqldf(q, globals())\n",
    "\n",
    "merged_table = pysql(query)"
   ]
  },
  {
   "cell_type": "code",
   "execution_count": 24,
   "metadata": {
    "collapsed": true
   },
   "outputs": [],
   "source": [
    "merged_table = merged_table.drop(columns=['host', 'last_update', \n",
    "                                          'Unnamed: 0', 'queue', 'date', \n",
    "                                          'weekday', 'strtime'])"
   ]
  },
  {
   "cell_type": "code",
   "execution_count": 25,
   "metadata": {
    "collapsed": true
   },
   "outputs": [],
   "source": [
    "merged_table.columns = ['id', 'user', 'start', \n",
    "                        'end', 'duration', 'time', \n",
    "                        'pages', 'user2']\n",
    "merged_table = merged_table.drop(columns=['user2'])"
   ]
  },
  {
   "cell_type": "code",
   "execution_count": 26,
   "metadata": {
    "collapsed": false
   },
   "outputs": [],
   "source": [
    "#Sum print jobs in the same session\n",
    "query = \"\"\" SELECT *, SUM(pages) FROM merged_table t GROUP BY start\n",
    "\"\"\"\n",
    "\n",
    "pysql = lambda q: pdsql.sqldf(q, globals())\n",
    "\n",
    "printer_usage = pysql(query)"
   ]
  },
  {
   "cell_type": "code",
   "execution_count": 31,
   "metadata": {
    "collapsed": false
   },
   "outputs": [
    {
     "name": "stdout",
     "output_type": "stream",
     "text": [
      "No Output Desired\n"
     ]
    }
   ],
   "source": [
    "printer_usage.rename(columns={'SUM(pages)' : 'total_printed'}, inplace=True)\n",
    "printer_usage.drop(columns=['pages'])\n",
    "print('No Output Desired')"
   ]
  },
  {
   "cell_type": "code",
   "execution_count": 19,
   "metadata": {
    "collapsed": false
   },
   "outputs": [
    {
     "data": {
      "text/html": [
       "<div>\n",
       "<style scoped>\n",
       "    .dataframe tbody tr th:only-of-type {\n",
       "        vertical-align: middle;\n",
       "    }\n",
       "\n",
       "    .dataframe tbody tr th {\n",
       "        vertical-align: top;\n",
       "    }\n",
       "\n",
       "    .dataframe thead th {\n",
       "        text-align: right;\n",
       "    }\n",
       "</style>\n",
       "<table border=\"1\" class=\"dataframe\">\n",
       "  <thead>\n",
       "    <tr style=\"text-align: right;\">\n",
       "      <th></th>\n",
       "      <th>id</th>\n",
       "      <th>duration</th>\n",
       "      <th>Unnamed: 0</th>\n",
       "      <th>pages</th>\n",
       "      <th>SUM(pages)</th>\n",
       "    </tr>\n",
       "  </thead>\n",
       "  <tbody>\n",
       "    <tr>\n",
       "      <th>count</th>\n",
       "      <td>97295.000000</td>\n",
       "      <td>97295.000000</td>\n",
       "      <td>97295.000000</td>\n",
       "      <td>97295.000000</td>\n",
       "      <td>97295.000000</td>\n",
       "    </tr>\n",
       "    <tr>\n",
       "      <th>mean</th>\n",
       "      <td>224968.252963</td>\n",
       "      <td>15.471745</td>\n",
       "      <td>93179.521281</td>\n",
       "      <td>3.657177</td>\n",
       "      <td>6.059983</td>\n",
       "    </tr>\n",
       "    <tr>\n",
       "      <th>std</th>\n",
       "      <td>42160.263072</td>\n",
       "      <td>49.194325</td>\n",
       "      <td>56742.281266</td>\n",
       "      <td>3.369518</td>\n",
       "      <td>6.010579</td>\n",
       "    </tr>\n",
       "    <tr>\n",
       "      <th>min</th>\n",
       "      <td>156307.000000</td>\n",
       "      <td>0.100000</td>\n",
       "      <td>40.000000</td>\n",
       "      <td>1.000000</td>\n",
       "      <td>1.000000</td>\n",
       "    </tr>\n",
       "    <tr>\n",
       "      <th>25%</th>\n",
       "      <td>189173.000000</td>\n",
       "      <td>2.816667</td>\n",
       "      <td>44734.500000</td>\n",
       "      <td>1.000000</td>\n",
       "      <td>2.000000</td>\n",
       "    </tr>\n",
       "    <tr>\n",
       "      <th>50%</th>\n",
       "      <td>220572.000000</td>\n",
       "      <td>5.350000</td>\n",
       "      <td>85861.000000</td>\n",
       "      <td>2.000000</td>\n",
       "      <td>5.000000</td>\n",
       "    </tr>\n",
       "    <tr>\n",
       "      <th>75%</th>\n",
       "      <td>261277.000000</td>\n",
       "      <td>11.866667</td>\n",
       "      <td>144104.500000</td>\n",
       "      <td>5.000000</td>\n",
       "      <td>8.000000</td>\n",
       "    </tr>\n",
       "    <tr>\n",
       "      <th>max</th>\n",
       "      <td>302441.000000</td>\n",
       "      <td>3504.983333</td>\n",
       "      <td>194766.000000</td>\n",
       "      <td>254.000000</td>\n",
       "      <td>600.000000</td>\n",
       "    </tr>\n",
       "  </tbody>\n",
       "</table>\n",
       "</div>"
      ],
      "text/plain": [
       "                  id      duration     Unnamed: 0         pages    SUM(pages)\n",
       "count   97295.000000  97295.000000   97295.000000  97295.000000  97295.000000\n",
       "mean   224968.252963     15.471745   93179.521281      3.657177      6.059983\n",
       "std     42160.263072     49.194325   56742.281266      3.369518      6.010579\n",
       "min    156307.000000      0.100000      40.000000      1.000000      1.000000\n",
       "25%    189173.000000      2.816667   44734.500000      1.000000      2.000000\n",
       "50%    220572.000000      5.350000   85861.000000      2.000000      5.000000\n",
       "75%    261277.000000     11.866667  144104.500000      5.000000      8.000000\n",
       "max    302441.000000   3504.983333  194766.000000    254.000000    600.000000"
      ]
     },
     "execution_count": 19,
     "metadata": {},
     "output_type": "execute_result"
    }
   ],
   "source": [
    "print_sessions = printer_usage.query('pages >= 1')\n",
    "print_sessions.describe()"
   ]
  },
  {
   "cell_type": "code",
   "execution_count": 20,
   "metadata": {
    "collapsed": false
   },
   "outputs": [
    {
     "data": {
      "text/html": [
       "<div>\n",
       "<style scoped>\n",
       "    .dataframe tbody tr th:only-of-type {\n",
       "        vertical-align: middle;\n",
       "    }\n",
       "\n",
       "    .dataframe tbody tr th {\n",
       "        vertical-align: top;\n",
       "    }\n",
       "\n",
       "    .dataframe thead th {\n",
       "        text-align: right;\n",
       "    }\n",
       "</style>\n",
       "<table border=\"1\" class=\"dataframe\">\n",
       "  <thead>\n",
       "    <tr style=\"text-align: right;\">\n",
       "      <th></th>\n",
       "      <th>id</th>\n",
       "      <th>duration</th>\n",
       "      <th>Unnamed: 0</th>\n",
       "      <th>pages</th>\n",
       "      <th>SUM(pages)</th>\n",
       "    </tr>\n",
       "  </thead>\n",
       "  <tbody>\n",
       "    <tr>\n",
       "      <th>count</th>\n",
       "      <td>34.000000</td>\n",
       "      <td>34.000000</td>\n",
       "      <td>34.000000</td>\n",
       "      <td>34.0</td>\n",
       "      <td>34.000000</td>\n",
       "    </tr>\n",
       "    <tr>\n",
       "      <th>mean</th>\n",
       "      <td>158923.823529</td>\n",
       "      <td>18.607353</td>\n",
       "      <td>3661.735294</td>\n",
       "      <td>0.0</td>\n",
       "      <td>5.000000</td>\n",
       "    </tr>\n",
       "    <tr>\n",
       "      <th>std</th>\n",
       "      <td>13548.009847</td>\n",
       "      <td>32.631570</td>\n",
       "      <td>18390.781374</td>\n",
       "      <td>0.0</td>\n",
       "      <td>3.684529</td>\n",
       "    </tr>\n",
       "    <tr>\n",
       "      <th>min</th>\n",
       "      <td>156314.000000</td>\n",
       "      <td>1.433333</td>\n",
       "      <td>60.000000</td>\n",
       "      <td>0.0</td>\n",
       "      <td>0.000000</td>\n",
       "    </tr>\n",
       "    <tr>\n",
       "      <th>25%</th>\n",
       "      <td>156421.750000</td>\n",
       "      <td>5.187500</td>\n",
       "      <td>226.500000</td>\n",
       "      <td>0.0</td>\n",
       "      <td>0.250000</td>\n",
       "    </tr>\n",
       "    <tr>\n",
       "      <th>50%</th>\n",
       "      <td>156530.500000</td>\n",
       "      <td>8.558333</td>\n",
       "      <td>412.000000</td>\n",
       "      <td>0.0</td>\n",
       "      <td>6.000000</td>\n",
       "    </tr>\n",
       "    <tr>\n",
       "      <th>75%</th>\n",
       "      <td>156670.750000</td>\n",
       "      <td>14.454167</td>\n",
       "      <td>653.000000</td>\n",
       "      <td>0.0</td>\n",
       "      <td>8.000000</td>\n",
       "    </tr>\n",
       "    <tr>\n",
       "      <th>max</th>\n",
       "      <td>235559.000000</td>\n",
       "      <td>171.266667</td>\n",
       "      <td>107682.000000</td>\n",
       "      <td>0.0</td>\n",
       "      <td>14.000000</td>\n",
       "    </tr>\n",
       "  </tbody>\n",
       "</table>\n",
       "</div>"
      ],
      "text/plain": [
       "                  id    duration     Unnamed: 0  pages  SUM(pages)\n",
       "count      34.000000   34.000000      34.000000   34.0   34.000000\n",
       "mean   158923.823529   18.607353    3661.735294    0.0    5.000000\n",
       "std     13548.009847   32.631570   18390.781374    0.0    3.684529\n",
       "min    156314.000000    1.433333      60.000000    0.0    0.000000\n",
       "25%    156421.750000    5.187500     226.500000    0.0    0.250000\n",
       "50%    156530.500000    8.558333     412.000000    0.0    6.000000\n",
       "75%    156670.750000   14.454167     653.000000    0.0    8.000000\n",
       "max    235559.000000  171.266667  107682.000000    0.0   14.000000"
      ]
     },
     "execution_count": 20,
     "metadata": {},
     "output_type": "execute_result"
    }
   ],
   "source": [
    "noprint_sessions = printer_usage.query('pages <= 0')\n",
    "noprint_sessions.describe()"
   ]
  },
  {
   "cell_type": "code",
   "execution_count": null,
   "metadata": {
    "collapsed": true
   },
   "outputs": [],
   "source": []
  }
 ],
 "metadata": {
  "kernelspec": {
   "display_name": "Python 3",
   "language": "python",
   "name": "python3"
  },
  "language_info": {
   "codemirror_mode": {
    "name": "ipython",
    "version": 3
   },
   "file_extension": ".py",
   "mimetype": "text/x-python",
   "name": "python",
   "nbconvert_exporter": "python",
   "pygments_lexer": "ipython3",
   "version": "3.5.3"
  }
 },
 "nbformat": 4,
 "nbformat_minor": 2
}
