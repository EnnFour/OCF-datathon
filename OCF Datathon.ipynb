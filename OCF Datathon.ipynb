{
 "cells": [
  {
   "cell_type": "code",
   "execution_count": null,
   "metadata": {
    "collapsed": false
   },
   "outputs": [],
   "source": [
    "# Install some common data analysis packages\n",
    "!pip3 install numpy\n",
    "!pip3 install pandas\n",
    "!pip3 install sklearn\n",
    "!pip3 install scipy\n",
    "!pip3 install matplotlib\n",
    "!pip3 install pandasql"
   ]
  },
  {
   "cell_type": "code",
   "execution_count": 14,
   "metadata": {
    "collapsed": false
   },
   "outputs": [],
   "source": [
    "import pandas as pd\n",
    "import numpy as np\n",
    "import sklearn\n",
    "import scipy\n",
    "import matplotlib\n",
    "import matplotlib.pyplot as plt\n",
    "import datetime\n",
    "from pytz import timezone\n",
    "import pandasql as pdsql"
   ]
  },
  {
   "cell_type": "code",
   "execution_count": 2,
   "metadata": {
    "collapsed": true
   },
   "outputs": [],
   "source": [
    "#Import all data available at the hackathon\n",
    "printer_data = pd.read_csv('http://ocf.io/shichenh/ocf_datathon_ds/printing.csv')\n",
    "session_data = pd.read_csv('https://www.ocf.berkeley.edu/~shichenh/ocf_datathon_ds/sessions.csv')\n",
    "staff_data = pd.read_csv('https://www.ocf.berkeley.edu/~shichenh/ocf_datathon_ds/s_sessions.csv')"
   ]
  },
  {
   "cell_type": "code",
   "execution_count": 3,
   "metadata": {
    "collapsed": true
   },
   "outputs": [],
   "source": [
    "#Trim the printer data to have no entries past the time 2017-11-09 20:00:00 UTC (Noon pacific)\n",
    "#Also, no entries before 9AM Pacific 2016-03-16\n",
    "printer_data = printer_data[39:194767]\n",
    "\n",
    "#Trim the session data to have no entries past the time 2017-11-09 20:00:00 UTC (noon pacific)\n",
    "#Also, no entries before 16:00:00 UTC\n",
    "session_data = session_data[156305:302446]\n"
   ]
  },
  {
   "cell_type": "code",
   "execution_count": 4,
   "metadata": {
    "collapsed": false
   },
   "outputs": [
    {
     "name": "stdout",
     "output_type": "stream",
     "text": [
      "\n"
     ]
    }
   ],
   "source": [
    "#Convert dates and times into a datetime object\n",
    "session_data['start'] = pd.to_datetime(session_data['start'], format='%Y-%m-%dT%H:%M:%SZ')\n",
    "session_data['end'] = pd.to_datetime(session_data['end'], format='%Y-%m-%dT%H:%M:%SZ')\n",
    "printer_data['time'] = pd.to_datetime(printer_data['time'], format='%Y-%m-%d %H:%M:%S')\n",
    "\n",
    "#Give all the dates and times a format which can be compared using string comparison\n",
    "printer_data['strtime'] = printer_data['time'].dt.tz_localize('US/Pacific').dt.tz_convert('utc')\n",
    "printer_data['strtime'].apply(lambda x: x.strftime(\"%Y:%m:%d:%H:%M:%S\"))\n",
    "\n",
    "session_data['start'] = session_data['start'].dt.tz_localize('utc')\n",
    "session_data['start'].apply(lambda x: x.strftime(\"%Y:%m:%d:%H:%M:%S\"))\n",
    "\n",
    "session_data['end'] = session_data['end'].dt.tz_localize('utc')\n",
    "session_data['end'].apply(lambda x: x.strftime(\"%Y:%m:%d:%H:%M:%S\"))\n",
    "\n",
    "#Prevent any output from showing in the ipython notebook\n",
    "print(\"\")"
   ]
  },
  {
   "cell_type": "code",
   "execution_count": 5,
   "metadata": {
    "collapsed": false
   },
   "outputs": [
    {
     "name": "stdout",
     "output_type": "stream",
     "text": [
      "\n"
     ]
    }
   ],
   "source": [
    "#Convert some columns from objects to strings\n",
    "session_data.user.apply(str)\n",
    "printer_data.user.apply(str)\n",
    "\n",
    "printer_data['strtime'] = printer_data['strtime'].astype(str)\n",
    "session_data['start'] = session_data['start'].astype(str)\n",
    "session_data['end'] = session_data['end'].astype(str)\n",
    "\n",
    "print(\"\")"
   ]
  },
  {
   "cell_type": "code",
   "execution_count": 6,
   "metadata": {
    "collapsed": true
   },
   "outputs": [],
   "source": [
    "#Create a SQL Query which will be able to merge the two datasets together\n",
    "query = \"\"\"SELECT * FROM session_data a INNER JOIN printer_data b \n",
    "            ON a.user = b.user WHERE a.start < b.strtime AND a.end > b.strtime\"\"\"\n",
    "\n",
    "#Convert the tables into a SQL database and merge using SQL\n",
    "#This is much more efficient than converting in python\n",
    "\n",
    "pysql = lambda q: pdsql.sqldf(q, globals())\n",
    "merged_table = pysql(query)"
   ]
  },
  {
   "cell_type": "code",
   "execution_count": 7,
   "metadata": {
    "collapsed": true
   },
   "outputs": [],
   "source": [
    "#Remove columns which are not necessary to answer the question I would like to answer\n",
    "merged_table = merged_table.drop(columns=['host', 'last_update', \n",
    "                                          'Unnamed: 0', 'queue', 'date', \n",
    "                                          'weekday', 'strtime'])"
   ]
  },
  {
   "cell_type": "code",
   "execution_count": 8,
   "metadata": {
    "collapsed": true
   },
   "outputs": [],
   "source": [
    "#Rename columns and drop the repeated column\n",
    "merged_table.columns = ['id', 'user', 'start', \n",
    "                        'end', 'duration', 'time', \n",
    "                        'pages', 'user2']\n",
    "merged_table = merged_table.drop(columns=['user2'])"
   ]
  },
  {
   "cell_type": "code",
   "execution_count": 9,
   "metadata": {
    "collapsed": false
   },
   "outputs": [],
   "source": [
    "#Sum print jobs in the same session to get total pages printed\n",
    "#Solves the problem of 2 print jobs in the same session treated as 2 different sessions\n",
    "query = \"\"\" SELECT *, SUM(pages) FROM merged_table t GROUP BY start\n",
    "\"\"\"\n",
    "\n",
    "pysql = lambda q: pdsql.sqldf(q, globals())\n",
    "printer_usage = pysql(query)"
   ]
  },
  {
   "cell_type": "code",
   "execution_count": 10,
   "metadata": {
    "collapsed": false
   },
   "outputs": [
    {
     "name": "stdout",
     "output_type": "stream",
     "text": [
      "\n"
     ]
    }
   ],
   "source": [
    "#Clean the data\n",
    "printer_usage.rename(columns={'SUM(pages)' : 'total_printed'}, inplace=True)\n",
    "printer_usage.drop(columns=['pages'])\n",
    "print('')"
   ]
  },
  {
   "cell_type": "code",
   "execution_count": 11,
   "metadata": {
    "collapsed": false,
    "scrolled": true
   },
   "outputs": [
    {
     "data": {
      "text/html": [
       "<div>\n",
       "<style scoped>\n",
       "    .dataframe tbody tr th:only-of-type {\n",
       "        vertical-align: middle;\n",
       "    }\n",
       "\n",
       "    .dataframe tbody tr th {\n",
       "        vertical-align: top;\n",
       "    }\n",
       "\n",
       "    .dataframe thead th {\n",
       "        text-align: right;\n",
       "    }\n",
       "</style>\n",
       "<table border=\"1\" class=\"dataframe\">\n",
       "  <thead>\n",
       "    <tr style=\"text-align: right;\">\n",
       "      <th></th>\n",
       "      <th>id</th>\n",
       "      <th>duration</th>\n",
       "      <th>pages</th>\n",
       "      <th>total_printed</th>\n",
       "    </tr>\n",
       "  </thead>\n",
       "  <tbody>\n",
       "    <tr>\n",
       "      <th>count</th>\n",
       "      <td>97320.000000</td>\n",
       "      <td>97320.000000</td>\n",
       "      <td>97320.000000</td>\n",
       "      <td>97320.000000</td>\n",
       "    </tr>\n",
       "    <tr>\n",
       "      <th>mean</th>\n",
       "      <td>224950.669934</td>\n",
       "      <td>15.471843</td>\n",
       "      <td>3.656237</td>\n",
       "      <td>6.060173</td>\n",
       "    </tr>\n",
       "    <tr>\n",
       "      <th>std</th>\n",
       "      <td>42169.116490</td>\n",
       "      <td>49.189003</td>\n",
       "      <td>3.369595</td>\n",
       "      <td>6.009940</td>\n",
       "    </tr>\n",
       "    <tr>\n",
       "      <th>min</th>\n",
       "      <td>156307.000000</td>\n",
       "      <td>0.100000</td>\n",
       "      <td>0.000000</td>\n",
       "      <td>1.000000</td>\n",
       "    </tr>\n",
       "    <tr>\n",
       "      <th>25%</th>\n",
       "      <td>189149.750000</td>\n",
       "      <td>2.816667</td>\n",
       "      <td>1.000000</td>\n",
       "      <td>2.000000</td>\n",
       "    </tr>\n",
       "    <tr>\n",
       "      <th>50%</th>\n",
       "      <td>220556.500000</td>\n",
       "      <td>5.350000</td>\n",
       "      <td>2.000000</td>\n",
       "      <td>5.000000</td>\n",
       "    </tr>\n",
       "    <tr>\n",
       "      <th>75%</th>\n",
       "      <td>261267.250000</td>\n",
       "      <td>11.866667</td>\n",
       "      <td>5.000000</td>\n",
       "      <td>8.000000</td>\n",
       "    </tr>\n",
       "    <tr>\n",
       "      <th>max</th>\n",
       "      <td>302441.000000</td>\n",
       "      <td>3504.983333</td>\n",
       "      <td>254.000000</td>\n",
       "      <td>600.000000</td>\n",
       "    </tr>\n",
       "  </tbody>\n",
       "</table>\n",
       "</div>"
      ],
      "text/plain": [
       "                  id      duration         pages  total_printed\n",
       "count   97320.000000  97320.000000  97320.000000   97320.000000\n",
       "mean   224950.669934     15.471843      3.656237       6.060173\n",
       "std     42169.116490     49.189003      3.369595       6.009940\n",
       "min    156307.000000      0.100000      0.000000       1.000000\n",
       "25%    189149.750000      2.816667      1.000000       2.000000\n",
       "50%    220556.500000      5.350000      2.000000       5.000000\n",
       "75%    261267.250000     11.866667      5.000000       8.000000\n",
       "max    302441.000000   3504.983333    254.000000     600.000000"
      ]
     },
     "execution_count": 11,
     "metadata": {},
     "output_type": "execute_result"
    }
   ],
   "source": [
    "#Describe the set of all sessions where a printer was used\n",
    "print_sessions = printer_usage.query('total_printed >= 1')\n",
    "print_sessions.describe()"
   ]
  },
  {
   "cell_type": "code",
   "execution_count": 43,
   "metadata": {
    "collapsed": false
   },
   "outputs": [
    {
     "name": "stderr",
     "output_type": "stream",
     "text": [
      "/home/a/aw/awelty/.local/lib/python3.5/site-packages/matplotlib/cbook/deprecation.py:106: MatplotlibDeprecationWarning: Adding an axes using the same arguments as a previous axes currently reuses the earlier instance.  In a future version, a new instance will always be created and returned.  Meanwhile, this warning can be suppressed, and the future behavior ensured, by passing a unique label to each axes instance.\n",
      "  warnings.warn(message, mplDeprecation, stacklevel=1)\n"
     ]
    },
    {
     "data": {
      "image/png": "[encoded data removed]",
      "text/plain": [
       "<matplotlib.figure.Figure at 0x7f2d6dccb6d8>"
      ]
     },
     "metadata": {},
     "output_type": "display_data"
    }
   ],
   "source": [
    "#Display two histograms to help us better visualize the data\n",
    "#Also plot the mean and 70th percentile in the histogram\n",
    "bins_50 = [i for i in range(0,50)]\n",
    "bins_30 = [i for i in range(0, 30)]\n",
    "\n",
    "p_70 = np.percentile(print_sessions['duration'], 70)\n",
    "p_50 = np.percentile(print_sessions['duration'], 50)\n",
    "\n",
    "plt.subplot(121)\n",
    "plt.hist(print_sessions['duration'], bins=bins_30, color='c')\n",
    "plt.axvline(p_70, color='b', linestyle='dashed')\n",
    "plt.axvline(p_50, color='b', linestyle='dashed')\n",
    "plt.xlabel('Duration of session (minutes)')\n",
    "plt.ylabel('Number of sessions')\n",
    "plt.title('# of Sessions vs. Duration \\n For Sessions that Printed')\n",
    "\n",
    "plt.subplot(122)\n",
    "plt.hist(print_sessions['duration'], bins=bins_50, color='c')\n",
    "plt.axvline(p_70, color='b', linestyle='dashed')\n",
    "plt.axvline(p_50, color='b', linestyle='dashed')\n",
    "plt.xlabel('Duration of session (minutes)')\n",
    "plt.ylabel('Number of sessions')\n",
    "\n",
    "plt.title('# of Sessions vs. Duration \\n For Sessions that Printed')\n",
    "plt.tight_layout()\n",
    "plt.show()"
   ]
  },
  {
   "cell_type": "code",
   "execution_count": null,
   "metadata": {
    "collapsed": true
   },
   "outputs": [],
   "source": []
  }
 ],
 "metadata": {
  "kernelspec": {
   "display_name": "Python 3",
   "language": "python",
   "name": "python3"
  },
  "language_info": {
   "codemirror_mode": {
    "name": "ipython",
    "version": 3
   },
   "file_extension": ".py",
   "mimetype": "text/x-python",
   "name": "python",
   "nbconvert_exporter": "python",
   "pygments_lexer": "ipython3",
   "version": "3.5.3"
  }
 },
 "nbformat": 4,
 "nbformat_minor": 2
}
